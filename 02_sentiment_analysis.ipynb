{
 "cells": [
  {
   "cell_type": "markdown",
   "metadata": {},
   "source": [
    "# Notebook 2: Sentiment Analysis Notebook"
   ]
  },
  {
   "cell_type": "markdown",
   "metadata": {},
   "source": [
    "##### Please refer to the Python Requirements and Installation Guide pdf "
   ]
  },
  {
   "cell_type": "markdown",
   "metadata": {},
   "source": [
    "Purpose : The following notebook analyzes the translated dataframes by applying a sentiment model. "
   ]
  },
  {
   "cell_type": "markdown",
   "metadata": {},
   "source": [
    "### Imports required within the notebook "
   ]
  },
  {
   "cell_type": "markdown",
   "metadata": {},
   "source": [
    "#### Addtional Python Dependencies: \n",
    "1. __Pytorch__ <br>\n",
    "    Link: https://pytorch.org/get-started/locally/ <br>\n",
    "    The installation guide can be found in the link above. The installation depends on the operating system that one is \n",
    "    working on <br>\n",
    "    pip install torch torchvision torchaudio <br> \n"
   ]
  },
  {
   "cell_type": "code",
   "execution_count": 1,
   "metadata": {},
   "outputs": [],
   "source": [
    "# Please download the following packages to run the sentiment model\n",
    "#pip install torch\n",
    "#pip install transformers\n",
    "# pip install scipy "
   ]
  },
  {
   "cell_type": "code",
   "execution_count": 2,
   "metadata": {},
   "outputs": [
    {
     "name": "stderr",
     "output_type": "stream",
     "text": [
      "c:\\ProgramData\\Anaconda3\\envs\\DataScience\\lib\\site-packages\\numpy\\_distributor_init.py:30: UserWarning: loaded more than 1 DLL from .libs:\n",
      "c:\\ProgramData\\Anaconda3\\envs\\DataScience\\lib\\site-packages\\numpy\\.libs\\libopenblas.GK7GX5KEQ4F6UYO3P26ULGBQYHGQO7J4.gfortran-win_amd64.dll\n",
      "c:\\ProgramData\\Anaconda3\\envs\\DataScience\\lib\\site-packages\\numpy\\.libs\\libopenblas.XWYDX2IKJW2NMTWSFYNGFUWKQU3LYTCZ.gfortran-win_amd64.dll\n",
      "  warnings.warn(\"loaded more than 1 DLL from .libs:\"\n"
     ]
    }
   ],
   "source": [
    "# Importing the required packages for this notebook: \n",
    "\n",
    "import torch \n",
    "import transformers \n",
    "from timeit import default_timer as timer\n",
    "import pandas as pd\n",
    "from tqdm import tqdm\n",
    "import time\n",
    "import numpy as np\n",
    "import sys\n",
    "import warnings\n",
    "warnings.simplefilter(action='always', category = FutureWarning)\n",
    "warnings.filterwarnings('always')\n",
    "warnings.simplefilter('ignore')\n",
    "import matplotlib.pyplot as plt\n",
    "import datetime \n",
    "from scipy.special import softmax\n",
    "import seaborn as sns "
   ]
  },
  {
   "cell_type": "markdown",
   "metadata": {},
   "source": [
    "## Importing Sentiment Model"
   ]
  },
  {
   "cell_type": "markdown",
   "metadata": {},
   "source": [
    "The model we designed to use is available for 6 different languages, the accuracy varies depending on the input language. The models has already been trained on 150k english reviews, and 137k German reviews. You may find more information by using the following url: https://huggingface.co/nlptown/bert-base-multilingual-uncased-sentiment?text=I+hate+you. "
   ]
  },
  {
   "cell_type": "markdown",
   "metadata": {},
   "source": [
    "Import and pass the tokenizer and the model url from Hugging Face url = (\"nlptown/bert-base-multilingual-uncased-sentiment\")"
   ]
  },
  {
   "cell_type": "code",
   "execution_count": 3,
   "metadata": {},
   "outputs": [],
   "source": [
    "from transformers import AutoTokenizer, AutoModelForSequenceClassification\n",
    "tokenizer = AutoTokenizer.from_pretrained('nlptown/bert-base-multilingual-uncased-sentiment')\n",
    "model = AutoModelForSequenceClassification.from_pretrained('nlptown/bert-base-multilingual-uncased-sentiment')"
   ]
  },
  {
   "cell_type": "code",
   "execution_count": 4,
   "metadata": {},
   "outputs": [],
   "source": [
    "# Here import the previously translatated files, our foucs company Bechtle, the market leader SAP,\n",
    "# and the IT industry master table. \n",
    "# The following path will vary for the individual user running the following cell.\n",
    "# Please adapt the path accordingly. Please leave sep='\\t', encoding = 'utf-8' after path insertion\n",
    "# The translated csv files can be found in the \"translated_csvs_folder\" folder/directory.\n",
    "# Here, we utilise Bechtle's translated csv as Bechtle is our company of interest. We also utilize SAP's \n",
    "# translated csv as SAP is the market leader and we use it as a benchmark. .\n",
    "# The master table is It is a union of all the IT companies we ahve scraped.\n",
    "becthle_translated = pd.read_csv(r\"C:\\Users\\jdzuc\\OneDrive\\Frankfurt School Courses\\Third Semester\\Strategic Management\\Final Project\\Strategy Final Project\\translated_csvs_folder\\bechtle_translated.csv\",sep='\\t', encoding = 'utf-8')\n",
    "sap_translated = pd.read_csv(r\"C:\\Users\\jdzuc\\OneDrive\\Frankfurt School Courses\\Third Semester\\Strategic Management\\Final Project\\Strategy Final Project\\translated_csvs_folder\\sap_translated.csv\", sep = '\\t', encoding = 'utf-8')\n",
    "master_table = pd.read_csv(r\"C:\\Users\\jdzuc\\OneDrive\\Frankfurt School Courses\\Third Semester\\Strategic Management\\Final Project\\Strategy Final Project\\master_table\", sep = '\\t', encoding = 'utf-8')"
   ]
  },
  {
   "cell_type": "code",
   "execution_count": 5,
   "metadata": {},
   "outputs": [
    {
     "data": {
      "text/html": [
       "<div>\n",
       "<style scoped>\n",
       "    .dataframe tbody tr th:only-of-type {\n",
       "        vertical-align: middle;\n",
       "    }\n",
       "\n",
       "    .dataframe tbody tr th {\n",
       "        vertical-align: top;\n",
       "    }\n",
       "\n",
       "    .dataframe thead th {\n",
       "        text-align: right;\n",
       "    }\n",
       "</style>\n",
       "<table border=\"1\" class=\"dataframe\">\n",
       "  <thead>\n",
       "    <tr style=\"text-align: right;\">\n",
       "      <th></th>\n",
       "      <th>Unnamed: 0</th>\n",
       "      <th>review_idx</th>\n",
       "      <th>review_date</th>\n",
       "      <th>review_title</th>\n",
       "      <th>review_recommendation</th>\n",
       "      <th>review_rating</th>\n",
       "      <th>review_employee_info</th>\n",
       "      <th>Arbeitsatmosphäre_star</th>\n",
       "      <th>Arbeitsatmosphäre_plain_text</th>\n",
       "      <th>Work-Life-Balance_star</th>\n",
       "      <th>...</th>\n",
       "      <th>Spaßfaktor_star</th>\n",
       "      <th>Spaßfaktor_plain_text</th>\n",
       "      <th>Wie kann dich dein Arbeitgeber im Umgang mit der Corona-Situation noch besser unterstützen?_star</th>\n",
       "      <th>Wie kann dich dein Arbeitgeber im Umgang mit der Corona-Situation noch besser unterstützen?_plain_text</th>\n",
       "      <th>Wofür möchtest du deinen Arbeitgeber im Umgang mit der Corona-Situation loben?_star</th>\n",
       "      <th>Wofür möchtest du deinen Arbeitgeber im Umgang mit der Corona-Situation loben?_plain_text</th>\n",
       "      <th>Was macht dein Arbeitgeber im Umgang mit der Corona-Situation nicht gut?_star</th>\n",
       "      <th>Was macht dein Arbeitgeber im Umgang mit der Corona-Situation nicht gut?_plain_text</th>\n",
       "      <th>Wo siehst du Chancen für deinen Arbeitgeber mit der Corona-Situation besser umzugehen?_star</th>\n",
       "      <th>Wo siehst du Chancen für deinen Arbeitgeber mit der Corona-Situation besser umzugehen?_plain_text</th>\n",
       "    </tr>\n",
       "  </thead>\n",
       "  <tbody>\n",
       "    <tr>\n",
       "      <th>0</th>\n",
       "      <td>0</td>\n",
       "      <td>review_0</td>\n",
       "      <td>2022-09-23T00:00:00+00:00</td>\n",
       "      <td>Utopian performance expectations, no cohesion,...</td>\n",
       "      <td>NaN</td>\n",
       "      <td>2.8</td>\n",
       "      <td>Ex-employee Has worked in the field of IT at B...</td>\n",
       "      <td>2.0</td>\n",
       "      <td>blasphemy, permanent dissatisfaction, pulling ...</td>\n",
       "      <td>5.0</td>\n",
       "      <td>...</td>\n",
       "      <td>NaN</td>\n",
       "      <td></td>\n",
       "      <td>NaN</td>\n",
       "      <td></td>\n",
       "      <td>NaN</td>\n",
       "      <td></td>\n",
       "      <td>NaN</td>\n",
       "      <td></td>\n",
       "      <td>NaN</td>\n",
       "      <td></td>\n",
       "    </tr>\n",
       "    <tr>\n",
       "      <th>1</th>\n",
       "      <td>1</td>\n",
       "      <td>review_1</td>\n",
       "      <td>2022-09-23T00:00:00+00:00</td>\n",
       "      <td>Good employer with many freedoms.</td>\n",
       "      <td>NaN</td>\n",
       "      <td>4.2</td>\n",
       "      <td>Employee Worked in IT at Bechtle Solingen in S...</td>\n",
       "      <td>NaN</td>\n",
       "      <td></td>\n",
       "      <td>NaN</td>\n",
       "      <td>...</td>\n",
       "      <td>NaN</td>\n",
       "      <td></td>\n",
       "      <td>NaN</td>\n",
       "      <td></td>\n",
       "      <td>NaN</td>\n",
       "      <td></td>\n",
       "      <td>NaN</td>\n",
       "      <td></td>\n",
       "      <td>NaN</td>\n",
       "      <td></td>\n",
       "    </tr>\n",
       "    <tr>\n",
       "      <th>2</th>\n",
       "      <td>2</td>\n",
       "      <td>review_2</td>\n",
       "      <td>2022-09-21T00:00:00+00:00</td>\n",
       "      <td>Honest and fair employer</td>\n",
       "      <td>NaN</td>\n",
       "      <td>4.7</td>\n",
       "      <td>Employee Worked for Bechtle IT-Systemhaus Nure...</td>\n",
       "      <td>4.0</td>\n",
       "      <td>The atmosphere is great, so 4 stars is always ...</td>\n",
       "      <td>4.0</td>\n",
       "      <td>...</td>\n",
       "      <td>NaN</td>\n",
       "      <td></td>\n",
       "      <td>NaN</td>\n",
       "      <td></td>\n",
       "      <td>NaN</td>\n",
       "      <td></td>\n",
       "      <td>NaN</td>\n",
       "      <td></td>\n",
       "      <td>NaN</td>\n",
       "      <td></td>\n",
       "    </tr>\n",
       "  </tbody>\n",
       "</table>\n",
       "<p>3 rows × 63 columns</p>\n",
       "</div>"
      ],
      "text/plain": [
       "   Unnamed: 0 review_idx                review_date  \\\n",
       "0           0   review_0  2022-09-23T00:00:00+00:00   \n",
       "1           1   review_1  2022-09-23T00:00:00+00:00   \n",
       "2           2   review_2  2022-09-21T00:00:00+00:00   \n",
       "\n",
       "                                        review_title review_recommendation  \\\n",
       "0  Utopian performance expectations, no cohesion,...                   NaN   \n",
       "1                  Good employer with many freedoms.                   NaN   \n",
       "2                           Honest and fair employer                   NaN   \n",
       "\n",
       "   review_rating                               review_employee_info  \\\n",
       "0            2.8  Ex-employee Has worked in the field of IT at B...   \n",
       "1            4.2  Employee Worked in IT at Bechtle Solingen in S...   \n",
       "2            4.7  Employee Worked for Bechtle IT-Systemhaus Nure...   \n",
       "\n",
       "   Arbeitsatmosphäre_star                       Arbeitsatmosphäre_plain_text  \\\n",
       "0                     2.0  blasphemy, permanent dissatisfaction, pulling ...   \n",
       "1                     NaN                                                      \n",
       "2                     4.0  The atmosphere is great, so 4 stars is always ...   \n",
       "\n",
       "   Work-Life-Balance_star  ... Spaßfaktor_star  Spaßfaktor_plain_text  \\\n",
       "0                     5.0  ...             NaN                          \n",
       "1                     NaN  ...             NaN                          \n",
       "2                     4.0  ...             NaN                          \n",
       "\n",
       "  Wie kann dich dein Arbeitgeber im Umgang mit der Corona-Situation noch besser unterstützen?_star  \\\n",
       "0                                                NaN                                                 \n",
       "1                                                NaN                                                 \n",
       "2                                                NaN                                                 \n",
       "\n",
       "   Wie kann dich dein Arbeitgeber im Umgang mit der Corona-Situation noch besser unterstützen?_plain_text  \\\n",
       "0                                                                                                           \n",
       "1                                                                                                           \n",
       "2                                                                                                           \n",
       "\n",
       "  Wofür möchtest du deinen Arbeitgeber im Umgang mit der Corona-Situation loben?_star  \\\n",
       "0                                                NaN                                    \n",
       "1                                                NaN                                    \n",
       "2                                                NaN                                    \n",
       "\n",
       "   Wofür möchtest du deinen Arbeitgeber im Umgang mit der Corona-Situation loben?_plain_text  \\\n",
       "0                                                                                              \n",
       "1                                                                                              \n",
       "2                                                                                              \n",
       "\n",
       "  Was macht dein Arbeitgeber im Umgang mit der Corona-Situation nicht gut?_star  \\\n",
       "0                                                NaN                              \n",
       "1                                                NaN                              \n",
       "2                                                NaN                              \n",
       "\n",
       "   Was macht dein Arbeitgeber im Umgang mit der Corona-Situation nicht gut?_plain_text  \\\n",
       "0                                                                                        \n",
       "1                                                                                        \n",
       "2                                                                                        \n",
       "\n",
       "  Wo siehst du Chancen für deinen Arbeitgeber mit der Corona-Situation besser umzugehen?_star  \\\n",
       "0                                                NaN                                            \n",
       "1                                                NaN                                            \n",
       "2                                                NaN                                            \n",
       "\n",
       "   Wo siehst du Chancen für deinen Arbeitgeber mit der Corona-Situation besser umzugehen?_plain_text  \n",
       "0                                                                                                     \n",
       "1                                                                                                     \n",
       "2                                                                                                     \n",
       "\n",
       "[3 rows x 63 columns]"
      ]
     },
     "execution_count": 5,
     "metadata": {},
     "output_type": "execute_result"
    }
   ],
   "source": [
    "becthle_translated.head(3)"
   ]
  },
  {
   "cell_type": "code",
   "execution_count": 6,
   "metadata": {},
   "outputs": [],
   "source": [
    "def construct_time(df): \n",
    "    \"\"\"\n",
    "    Purpose: The purpose the function is to take as input the desired dataframe to convert the review_date\tcolumn into two separate columns one for year and for month. This will aid \n",
    "    data analysis and visualization.  \n",
    "    Paramters: \n",
    "        df: desired dataframe to update\n",
    "    \n",
    "    Return: The function returns a dataframe with two extra columns, year and month.\n",
    "    \"\"\"\n",
    "    if \"Unnamed: 0\" in df.columns: \n",
    "        df.drop(columns = \"Unnamed: 0\", inplace = True)\n",
    "        \n",
    "    df.loc[:,\"review_date\"] = pd.to_datetime(df.loc[:,\"review_date\"] )\n",
    "    df.insert(4, \"year\", df[\"review_date\"].dt.year)\n",
    "    df.insert(5, \"month\", df[\"review_date\"].dt.month)\n",
    "    df.pop(\"review_date\")\n",
    "\n",
    "    return df\n"
   ]
  },
  {
   "cell_type": "code",
   "execution_count": 7,
   "metadata": {},
   "outputs": [],
   "source": [
    "# Here we don't pass the master_table dataframe, as the function has alreaddy been applied in the previous notebook. \n",
    "bechtle_translated = construct_time(becthle_translated)\n",
    "sap_translated = construct_time(sap_translated)"
   ]
  },
  {
   "cell_type": "markdown",
   "metadata": {},
   "source": [
    "# Measuring overall company sentiment "
   ]
  },
  {
   "cell_type": "markdown",
   "metadata": {},
   "source": [
    "To calculate overall company sentiment, the model will combine row wise text, thereby calculating sentiment per review per row and across the entire dataframe. "
   ]
  },
  {
   "cell_type": "code",
   "execution_count": 43,
   "metadata": {},
   "outputs": [],
   "source": [
    "\n",
    "def calculate_sentiment_row(df): #row_number: float\n",
    "    \n",
    "    \"\"\"\n",
    "    Purpose: The purpose of this function is to concatanate all rows-respective texts into one single paragraph. This ensures sentiment model accuracy. \n",
    "    \n",
    "    Parameter: \n",
    "        df: Takes input the dataframe for which we want to run the sentiment analysis. \n",
    "        sentiment_score: The model then takes this input paragraph, tokenizes it, applies the model and returns the predicted sentiment score for that specific row. \n",
    "        the funtion returns the dataframe after adding the row wise predicte sentiment.\n",
    "    \n",
    "    \"\"\"\n",
    "    \n",
    "    df[\"Sentiment Score\"] = \"nan\"\n",
    "    sentiment_column = df.pop(\"Sentiment Score\")\n",
    "    df.insert(df.columns.get_loc(\"review_rating\")+1, \"Sentiment Score\", sentiment_column)\n",
    "        \n",
    "    \n",
    "    for i in tqdm(np.arange(0, df.shape[0])):\n",
    "        first_cols = ['review_title', 'review_recommendation', 'review_employee_info']\n",
    "        second_cols = list(df.filter(like = 'plain_text', axis = 1).columns)\n",
    "        cols = first_cols + second_cols\n",
    "        \n",
    "        string = ''\n",
    "        for col in cols:\n",
    "            if isinstance(df[col][i], float):\n",
    "                continue\n",
    "            else:\n",
    "                string += ' ' + df[col][i]\n",
    "                \n",
    "        tokens = tokenizer.encode(string, truncation=True, padding=True, return_tensors='pt')\n",
    "        result = model(tokens)\n",
    "        result.logits\n",
    "        sentiment_score = int(torch.argmax(result.logits))+1\n",
    "        df[\"Sentiment Score\"][i] = sentiment_score\n",
    "    \n",
    "    \n",
    "    return df\n",
    "\n"
   ]
  },
  {
   "cell_type": "markdown",
   "metadata": {},
   "source": [
    "Below you may see one example of how the column \"Sentiment Score\" is being calculated."
   ]
  },
  {
   "cell_type": "code",
   "execution_count": 44,
   "metadata": {},
   "outputs": [
    {
     "name": "stderr",
     "output_type": "stream",
     "text": [
      "100%|██████████| 1646/1646 [04:49<00:00,  5.68it/s]\n"
     ]
    }
   ],
   "source": [
    "# Leave to demostrate how the functon works\n",
    "from tqdm import tqdm\n",
    "# takes input the bechtle_translated csv. \n",
    "bechtle_sentiment = calculate_sentiment_row(bechtle_translated)\n",
    "# bechtle_sentiment will hold the sentiment on a row level. \n",
    "# The sentiment on a row level for each review has been caluclated and has been saved in the \"sentiment\" folder/directory. \n"
   ]
  },
  {
   "cell_type": "code",
   "execution_count": 48,
   "metadata": {},
   "outputs": [
    {
     "data": {
      "text/html": [
       "<div>\n",
       "<style scoped>\n",
       "    .dataframe tbody tr th:only-of-type {\n",
       "        vertical-align: middle;\n",
       "    }\n",
       "\n",
       "    .dataframe tbody tr th {\n",
       "        vertical-align: top;\n",
       "    }\n",
       "\n",
       "    .dataframe thead th {\n",
       "        text-align: right;\n",
       "    }\n",
       "</style>\n",
       "<table border=\"1\" class=\"dataframe\">\n",
       "  <thead>\n",
       "    <tr style=\"text-align: right;\">\n",
       "      <th></th>\n",
       "      <th>review_idx</th>\n",
       "      <th>review_title</th>\n",
       "      <th>review_recommendation</th>\n",
       "      <th>year</th>\n",
       "      <th>month</th>\n",
       "      <th>review_rating</th>\n",
       "      <th>Sentiment Score</th>\n",
       "      <th>review_employee_info</th>\n",
       "      <th>Arbeitsatmosphäre_star</th>\n",
       "      <th>Arbeitsatmosphäre_plain_text</th>\n",
       "      <th>...</th>\n",
       "      <th>Spaßfaktor_star</th>\n",
       "      <th>Spaßfaktor_plain_text</th>\n",
       "      <th>Wie kann dich dein Arbeitgeber im Umgang mit der Corona-Situation noch besser unterstützen?_star</th>\n",
       "      <th>Wie kann dich dein Arbeitgeber im Umgang mit der Corona-Situation noch besser unterstützen?_plain_text</th>\n",
       "      <th>Wofür möchtest du deinen Arbeitgeber im Umgang mit der Corona-Situation loben?_star</th>\n",
       "      <th>Wofür möchtest du deinen Arbeitgeber im Umgang mit der Corona-Situation loben?_plain_text</th>\n",
       "      <th>Was macht dein Arbeitgeber im Umgang mit der Corona-Situation nicht gut?_star</th>\n",
       "      <th>Was macht dein Arbeitgeber im Umgang mit der Corona-Situation nicht gut?_plain_text</th>\n",
       "      <th>Wo siehst du Chancen für deinen Arbeitgeber mit der Corona-Situation besser umzugehen?_star</th>\n",
       "      <th>Wo siehst du Chancen für deinen Arbeitgeber mit der Corona-Situation besser umzugehen?_plain_text</th>\n",
       "    </tr>\n",
       "  </thead>\n",
       "  <tbody>\n",
       "    <tr>\n",
       "      <th>0</th>\n",
       "      <td>review_0</td>\n",
       "      <td>Utopian performance expectations, no cohesion,...</td>\n",
       "      <td>NaN</td>\n",
       "      <td>2022</td>\n",
       "      <td>9</td>\n",
       "      <td>2.8</td>\n",
       "      <td>1</td>\n",
       "      <td>Ex-employee Has worked in the field of IT at B...</td>\n",
       "      <td>2.0</td>\n",
       "      <td>blasphemy, permanent dissatisfaction, pulling ...</td>\n",
       "      <td>...</td>\n",
       "      <td>NaN</td>\n",
       "      <td></td>\n",
       "      <td>NaN</td>\n",
       "      <td></td>\n",
       "      <td>NaN</td>\n",
       "      <td></td>\n",
       "      <td>NaN</td>\n",
       "      <td></td>\n",
       "      <td>NaN</td>\n",
       "      <td></td>\n",
       "    </tr>\n",
       "    <tr>\n",
       "      <th>1</th>\n",
       "      <td>review_1</td>\n",
       "      <td>Good employer with many freedoms.</td>\n",
       "      <td>NaN</td>\n",
       "      <td>2022</td>\n",
       "      <td>9</td>\n",
       "      <td>4.2</td>\n",
       "      <td>5</td>\n",
       "      <td>Employee Worked in IT at Bechtle Solingen in S...</td>\n",
       "      <td>NaN</td>\n",
       "      <td></td>\n",
       "      <td>...</td>\n",
       "      <td>NaN</td>\n",
       "      <td></td>\n",
       "      <td>NaN</td>\n",
       "      <td></td>\n",
       "      <td>NaN</td>\n",
       "      <td></td>\n",
       "      <td>NaN</td>\n",
       "      <td></td>\n",
       "      <td>NaN</td>\n",
       "      <td></td>\n",
       "    </tr>\n",
       "    <tr>\n",
       "      <th>2</th>\n",
       "      <td>review_2</td>\n",
       "      <td>Honest and fair employer</td>\n",
       "      <td>NaN</td>\n",
       "      <td>2022</td>\n",
       "      <td>9</td>\n",
       "      <td>4.7</td>\n",
       "      <td>4</td>\n",
       "      <td>Employee Worked for Bechtle IT-Systemhaus Nure...</td>\n",
       "      <td>4.0</td>\n",
       "      <td>The atmosphere is great, so 4 stars is always ...</td>\n",
       "      <td>...</td>\n",
       "      <td>NaN</td>\n",
       "      <td></td>\n",
       "      <td>NaN</td>\n",
       "      <td></td>\n",
       "      <td>NaN</td>\n",
       "      <td></td>\n",
       "      <td>NaN</td>\n",
       "      <td></td>\n",
       "      <td>NaN</td>\n",
       "      <td></td>\n",
       "    </tr>\n",
       "  </tbody>\n",
       "</table>\n",
       "<p>3 rows × 64 columns</p>\n",
       "</div>"
      ],
      "text/plain": [
       "  review_idx                                       review_title  \\\n",
       "0   review_0  Utopian performance expectations, no cohesion,...   \n",
       "1   review_1                  Good employer with many freedoms.   \n",
       "2   review_2                           Honest and fair employer   \n",
       "\n",
       "  review_recommendation  year  month  review_rating Sentiment Score  \\\n",
       "0                   NaN  2022      9            2.8               1   \n",
       "1                   NaN  2022      9            4.2               5   \n",
       "2                   NaN  2022      9            4.7               4   \n",
       "\n",
       "                                review_employee_info  Arbeitsatmosphäre_star  \\\n",
       "0  Ex-employee Has worked in the field of IT at B...                     2.0   \n",
       "1  Employee Worked in IT at Bechtle Solingen in S...                     NaN   \n",
       "2  Employee Worked for Bechtle IT-Systemhaus Nure...                     4.0   \n",
       "\n",
       "                        Arbeitsatmosphäre_plain_text  ...  Spaßfaktor_star  \\\n",
       "0  blasphemy, permanent dissatisfaction, pulling ...  ...              NaN   \n",
       "1                                                     ...              NaN   \n",
       "2  The atmosphere is great, so 4 stars is always ...  ...              NaN   \n",
       "\n",
       "  Spaßfaktor_plain_text  \\\n",
       "0                         \n",
       "1                         \n",
       "2                         \n",
       "\n",
       "   Wie kann dich dein Arbeitgeber im Umgang mit der Corona-Situation noch besser unterstützen?_star  \\\n",
       "0                                                NaN                                                  \n",
       "1                                                NaN                                                  \n",
       "2                                                NaN                                                  \n",
       "\n",
       "  Wie kann dich dein Arbeitgeber im Umgang mit der Corona-Situation noch besser unterstützen?_plain_text  \\\n",
       "0                                                                                                          \n",
       "1                                                                                                          \n",
       "2                                                                                                          \n",
       "\n",
       "   Wofür möchtest du deinen Arbeitgeber im Umgang mit der Corona-Situation loben?_star  \\\n",
       "0                                                NaN                                     \n",
       "1                                                NaN                                     \n",
       "2                                                NaN                                     \n",
       "\n",
       "  Wofür möchtest du deinen Arbeitgeber im Umgang mit der Corona-Situation loben?_plain_text  \\\n",
       "0                                                                                             \n",
       "1                                                                                             \n",
       "2                                                                                             \n",
       "\n",
       "   Was macht dein Arbeitgeber im Umgang mit der Corona-Situation nicht gut?_star  \\\n",
       "0                                                NaN                               \n",
       "1                                                NaN                               \n",
       "2                                                NaN                               \n",
       "\n",
       "  Was macht dein Arbeitgeber im Umgang mit der Corona-Situation nicht gut?_plain_text  \\\n",
       "0                                                                                       \n",
       "1                                                                                       \n",
       "2                                                                                       \n",
       "\n",
       "   Wo siehst du Chancen für deinen Arbeitgeber mit der Corona-Situation besser umzugehen?_star  \\\n",
       "0                                                NaN                                             \n",
       "1                                                NaN                                             \n",
       "2                                                NaN                                             \n",
       "\n",
       "  Wo siehst du Chancen für deinen Arbeitgeber mit der Corona-Situation besser umzugehen?_plain_text  \n",
       "0                                                                                                    \n",
       "1                                                                                                    \n",
       "2                                                                                                    \n",
       "\n",
       "[3 rows x 64 columns]"
      ]
     },
     "execution_count": 48,
     "metadata": {},
     "output_type": "execute_result"
    }
   ],
   "source": [
    "bechtle_sentiment.head(3)"
   ]
  },
  {
   "cell_type": "code",
   "execution_count": null,
   "metadata": {},
   "outputs": [],
   "source": [
    "# Uncomment to run function on different tables \n",
    "# sentiments for SAP and IT industry:\n",
    "# sap_sentiment = calculate_sentiment_row(sap_translated)\n",
    "# master_table_sentiment = calculate_sentiment_row(master_table)"
   ]
  },
  {
   "cell_type": "code",
   "execution_count": null,
   "metadata": {},
   "outputs": [],
   "source": [
    "# This is the function used to save the new csv files with the predict sentiment score\n",
    "\n",
    "def clean_send(df, file_name): \n",
    "    \"\"\"\n",
    "    takes in a dataframe and path to where it is supposed to be saved\n",
    "    \n",
    "    \"\"\"\n",
    "    \n",
    "    if \"Unnamed:0\" in df.columns: \n",
    "        df.drop(columns = \"Unnamed: 0\", inplace = True)\n",
    "        \n",
    "    df.rename(columns = {'':'team_name'}, inplace = True)\n",
    "    df.to_csv(file_name, sep = '\\t', encoding = 'utf-8', index = True)"
   ]
  },
  {
   "cell_type": "code",
   "execution_count": 50,
   "metadata": {},
   "outputs": [],
   "source": [
    "# After running the sentiment function the dataframes will match the below dataframes: \n",
    "# The function above can be utilised to save the sentiment on a row level. This was a step in our process. \n",
    "# If the notebook is being run on one instance, there in no need for the clear_send function. \n",
    "bechtle_sentiment = pd.read_csv(r\"C:\\Users\\jdzuc\\OneDrive\\Frankfurt School Courses\\Third Semester\\Strategic Management\\Final Project\\Strategy Final Project\\Sentiment\\bechtle_sentiment.csv\", sep   = '\\t', encoding = 'utf-8')\n",
    "sap_sentiment = pd.read_csv(r\"C:\\Users\\jdzuc\\OneDrive\\Frankfurt School Courses\\Third Semester\\Strategic Management\\Final Project\\Strategy Final Project\\Sentiment\\sap_sentiment.csv\", sep   = '\\t', encoding = 'utf-8')\n",
    "master_table_sentiment = pd.read_csv(r\"C:\\Users\\jdzuc\\OneDrive\\Frankfurt School Courses\\Third Semester\\Strategic Management\\Final Project\\Strategy Final Project\\Sentiment\\Industry_sentiment.csv\", sep   = '\\t', encoding = 'utf-8')"
   ]
  },
  {
   "cell_type": "markdown",
   "metadata": {},
   "source": [
    "---------------------------------"
   ]
  },
  {
   "cell_type": "markdown",
   "metadata": {},
   "source": [
    "### Sentiment Per Column "
   ]
  },
  {
   "cell_type": "code",
   "execution_count": 32,
   "metadata": {},
   "outputs": [],
   "source": [
    "# to add a year to sentiment pass the dataframe as following: bechtle_translated[bechtle_translated['year'] > 2019]\n",
    "\n",
    "def column_sentiment(df):\n",
    "    \n",
    "    \"\"\"\n",
    "    Purpose: The purpose of this function is to concatanate all rows and their respective texts under one specific column.\n",
    "    \n",
    "    Parameter: \n",
    "        df: Takes input the dataframe for which we want to run the colum wise sentiment analysis. \n",
    "        sentiment_score: The model then takes this input paragraph made from a single column, tokenizes it, applies the model and returns the predicted sentiment score for that specific row. \n",
    "        the funtion returns the dictionary displaying the column name and their overall predict sentiment\n",
    "    \"\"\"\n",
    "    \n",
    "    df = df.select_dtypes(include='object')\n",
    "    results = []\n",
    "    column_names = df.columns\n",
    "    \n",
    "    for i in tqdm(df.columns):\n",
    "        string = ''\n",
    "        for row in df[i]:\n",
    "            if isinstance(row, float):\n",
    "                continue\n",
    "            else:\n",
    "                string += ' ' + row\n",
    "        tokens = tokenizer.encode(string, truncation=True, padding=True, return_tensors='pt')\n",
    "        result = model(tokens)\n",
    "        result.logits\n",
    "        sentiment_score = int(torch.argmax(result.logits))+1\n",
    "        results.append(sentiment_score)\n",
    "                \n",
    "    return dict(zip(column_names, results))\n",
    "\n",
    "            "
   ]
  },
  {
   "cell_type": "markdown",
   "metadata": {},
   "source": [
    "To calculate column sentiment, the model will combine row wise text under one specific column, thereby calculating sentiment across the entire dataframe. "
   ]
  },
  {
   "cell_type": "code",
   "execution_count": 37,
   "metadata": {},
   "outputs": [
    {
     "name": "stderr",
     "output_type": "stream",
     "text": [
      "100%|██████████| 32/32 [00:18<00:00,  1.73it/s]\n"
     ]
    }
   ],
   "source": [
    "bechtle_sentiment_columns = column_sentiment(bechtle_translated)"
   ]
  },
  {
   "cell_type": "code",
   "execution_count": 38,
   "metadata": {},
   "outputs": [
    {
     "data": {
      "text/plain": [
       "{'review_idx': 1,\n",
       " 'review_title': 1,\n",
       " 'review_recommendation': 4,\n",
       " 'review_employee_info': 4,\n",
       " 'Arbeitsatmosphäre_plain_text': 2,\n",
       " 'Work-Life-Balance_plain_text': 2,\n",
       " 'Kollegenzusammenhalt_plain_text': 4,\n",
       " 'Vorgesetztenverhalten_plain_text': 1,\n",
       " 'Kommunikation_plain_text': 2,\n",
       " 'Gehalt/Sozialleistungen_plain_text': 2,\n",
       " 'Gut am Arbeitgeber finde ich_plain_text': 4,\n",
       " 'Schlecht am Arbeitgeber finde ich_plain_text': 1,\n",
       " 'Verbesserungsvorschläge_plain_text': 1,\n",
       " 'Image_plain_text': 2,\n",
       " 'Karriere/Weiterbildung_plain_text': 4,\n",
       " 'Umwelt-/Sozialbewusstsein_plain_text': 2,\n",
       " 'Umgang mit älteren Kollegen_plain_text': 2,\n",
       " 'Arbeitsbedingungen_plain_text': 2,\n",
       " 'Gleichberechtigung_plain_text': 4,\n",
       " 'Interessante Aufgaben_plain_text': 2,\n",
       " 'Arbeitszeiten_plain_text': 4,\n",
       " 'Ausbildungsvergütung_plain_text': 3,\n",
       " 'Die Ausbilder_plain_text': 5,\n",
       " 'Aufgaben/Tätigkeiten_plain_text': 2,\n",
       " 'Variation_plain_text': 4,\n",
       " 'Respekt_plain_text': 5,\n",
       " 'Karrierechancen_plain_text': 4,\n",
       " 'Spaßfaktor_plain_text': 3,\n",
       " 'Wie kann dich dein Arbeitgeber im Umgang mit der Corona-Situation noch besser unterstützen?_plain_text': 5,\n",
       " 'Wofür möchtest du deinen Arbeitgeber im Umgang mit der Corona-Situation loben?_plain_text': 4,\n",
       " 'Was macht dein Arbeitgeber im Umgang mit der Corona-Situation nicht gut?_plain_text': 5,\n",
       " 'Wo siehst du Chancen für deinen Arbeitgeber mit der Corona-Situation besser umzugehen?_plain_text': 4}"
      ]
     },
     "execution_count": 38,
     "metadata": {},
     "output_type": "execute_result"
    }
   ],
   "source": [
    "# below you can visualize the columns and their corresping predicted sentiment. The sentiment on a column basis has \n",
    "# been calculated for our exploratory data analysis process\n",
    "bechtle_sentiment_columns"
   ]
  },
  {
   "cell_type": "markdown",
   "metadata": {},
   "source": [
    "-----------------------------------------------------------------------------------------------------------------------------------------------------------------------------------------------------------------------"
   ]
  },
  {
   "cell_type": "code",
   "execution_count": 51,
   "metadata": {},
   "outputs": [],
   "source": [
    "# Uncomment to apply to the other dataframes \n",
    "\n",
    "# sap_sentiment_columns = column_sentiment(sap_translated)\n",
    "# industy_sentiment_columns = column_sentiment(master_table) \n"
   ]
  },
  {
   "cell_type": "markdown",
   "metadata": {},
   "source": [
    "-----------------------------------------------------------------------------------------------------------------------------------------------------------------------------------------------------------------------"
   ]
  },
  {
   "cell_type": "markdown",
   "metadata": {},
   "source": [
    "-----------------------------------------------------------------------------------------------------------------------------------------------------------------------------------------------------------------------"
   ]
  },
  {
   "cell_type": "markdown",
   "metadata": {},
   "source": [
    "# Calculating NPS and Absolute Error Score "
   ]
  },
  {
   "cell_type": "code",
   "execution_count": 34,
   "metadata": {},
   "outputs": [],
   "source": [
    "def calculate_nps(df): \n",
    "    \"\"\"\n",
    "    Purpose: The purpose of this function is to calculate the NPS score and other metrics that allow for overall employee sentiment metrics \n",
    "    \n",
    "    Parameter: \n",
    "        df: Takes input the dataframe for which we want to calculate the nps. \n",
    "        sentiment_score: The model then takes this input paragraph, tokenizes it, applies the model and returns the predicted sentiment score for that specific row. \n",
    "        the funtion returns the dataframe after adding the row wise predicte sentiment.\n",
    "    \n",
    "    \n",
    "    \"\"\"\n",
    "    \n",
    "    if \"Unnamed: 0\" in df.columns: \n",
    "        df.drop(columns= [\"Unnamed: 0\"], inplace=  True) \n",
    "        \n",
    "    df[\"Net Promoting Score\"] = df[\"review_rating\"].values * 2\n",
    "    \n",
    "    nps_score = df.pop(\"Net Promoting Score\")\n",
    "    df.insert(df.columns.get_loc(\"Sentiment Score\")+1, \"Net Promotion Score\", nps_score)\n",
    "    \n",
    "    \n",
    "    detractros = len(df[df[\"Net Promotion Score\"] <= 6])\n",
    "    neutrals = len(df[(df['Net Promotion Score'] > 6) &  (df['Net Promotion Score'] < 9)])\n",
    "    promoters = len(df[df[\"Net Promotion Score\"] >= 9])\n",
    "    total = df.shape[0]\n",
    "    \n",
    "    \n",
    "    _detractors = round((detractros/total)*100,1)\n",
    "    _neutral = round((neutrals/total)*100,1)\n",
    "    _promoters = round((promoters/total)*100,1)\n",
    "    \n",
    "    results = [_detractors, _neutral, _promoters]\n",
    "    \n",
    "    return results\n",
    "            \n",
    "    \n",
    "    "
   ]
  },
  {
   "cell_type": "markdown",
   "metadata": {},
   "source": [
    "The below code calculates the estimated average score of NPS per company across all years. "
   ]
  },
  {
   "cell_type": "code",
   "execution_count": null,
   "metadata": {},
   "outputs": [],
   "source": [
    "nps_results = {}\n",
    "for company in list(master_table_sentiment[\"company\"].unique()):\n",
    "    nps_results.update({company: list(calculate_nps(master_table_sentiment[master_table_sentiment['company'] == company]))})"
   ]
  },
  {
   "cell_type": "code",
   "execution_count": 292,
   "metadata": {},
   "outputs": [
    {
     "data": {
      "text/plain": [
       "{'capgemini': [21.2, 39.0, 39.8],\n",
       " 'ibm': [42.3, 37.4, 20.2],\n",
       " 'adesso': [17.2, 32.4, 50.4],\n",
       " 'fujitsu': [28.6, 41.9, 29.5],\n",
       " 'computacenter': [22.6, 38.0, 39.4],\n",
       " 'swisscom': [20.0, 45.5, 34.5],\n",
       " 't_systems': [29.9, 45.6, 24.5],\n",
       " 'sap': [5.3, 26.4, 68.3],\n",
       " 'dell': [14.0, 29.2, 56.8],\n",
       " 'cancom': [38.5, 35.6, 26.0],\n",
       " 'bechtle': [38.4, 34.9, 26.7]}"
      ]
     },
     "execution_count": 292,
     "metadata": {},
     "output_type": "execute_result"
    }
   ],
   "source": [
    "nps_results"
   ]
  },
  {
   "cell_type": "markdown",
   "metadata": {},
   "source": [
    "The below lines of code serve for calculating the mean absolute error between the kununu review score and the sentiment score. "
   ]
  },
  {
   "cell_type": "code",
   "execution_count": 53,
   "metadata": {},
   "outputs": [],
   "source": [
    "from sklearn.metrics import mean_absolute_error, mean_squared_error\n",
    "mae = mean_absolute_error(bechtle_sentiment[bechtle_sentiment['year'] > 2011].loc[:,\"review_rating\"], bechtle_sentiment[bechtle_sentiment['year'] > 2011].loc[:,\"Sentiment Score\"])\n"
   ]
  },
  {
   "cell_type": "code",
   "execution_count": 56,
   "metadata": {},
   "outputs": [
    {
     "name": "stdout",
     "output_type": "stream",
     "text": [
      "0.75\n",
      "14.97\n"
     ]
    }
   ],
   "source": [
    "mae = mean_absolute_error(bechtle_sentiment[bechtle_sentiment['year'] > 2011].loc[:,\"review_rating\"], bechtle_sentiment[bechtle_sentiment['year'] > 2011].loc[:,\"Sentiment Score\"])\n",
    "print(round(mae,2))\n",
    "print(round((mae/5)*100,2))"
   ]
  },
  {
   "cell_type": "markdown",
   "metadata": {},
   "source": [
    "#### End of Notebook \n",
    "\n",
    "##### The next notebook to utilise is 03_topic_modeling.ipynb"
   ]
  },
  {
   "cell_type": "code",
   "execution_count": null,
   "metadata": {},
   "outputs": [],
   "source": []
  }
 ],
 "metadata": {
  "kernelspec": {
   "display_name": "Python 3",
   "language": "python",
   "name": "python3"
  },
  "language_info": {
   "codemirror_mode": {
    "name": "ipython",
    "version": 3
   },
   "file_extension": ".py",
   "mimetype": "text/x-python",
   "name": "python",
   "nbconvert_exporter": "python",
   "pygments_lexer": "ipython3",
   "version": "3.8.3"
  },
  "vscode": {
   "interpreter": {
    "hash": "89440801d01f3d0d29046faa142b0848e8e5c5dee4c0149c8a8f825a956a2cd0"
   }
  }
 },
 "nbformat": 4,
 "nbformat_minor": 4
}
